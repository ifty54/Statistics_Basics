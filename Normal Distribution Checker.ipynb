{
  "nbformat": 4,
  "nbformat_minor": 0,
  "metadata": {
    "colab": {
      "provenance": [],
      "authorship_tag": "ABX9TyNHiC5Dp5WYHor/fIMSJQ/f",
      "include_colab_link": true
    },
    "kernelspec": {
      "name": "python3",
      "display_name": "Python 3"
    },
    "language_info": {
      "name": "python"
    }
  },
  "cells": [
    {
      "cell_type": "markdown",
      "metadata": {
        "id": "view-in-github",
        "colab_type": "text"
      },
      "source": [
        "<a href=\"https://colab.research.google.com/github/ifty54/ifty/blob/main/Normal%20Distribution%20Checker.ipynb\" target=\"_parent\"><img src=\"https://colab.research.google.com/assets/colab-badge.svg\" alt=\"Open In Colab\"/></a>"
      ]
    },
    {
      "cell_type": "markdown",
      "source": [
        "##Mean Median Mode"
      ],
      "metadata": {
        "id": "_d-VYGPKeuQL"
      }
    },
    {
      "cell_type": "code",
      "execution_count": 2,
      "metadata": {
        "colab": {
          "base_uri": "https://localhost:8080/"
        },
        "id": "9JK1h8eDeXOj",
        "outputId": "0a9fa73c-a254-4a09-f554-dd86fe34a2dd"
      },
      "outputs": [
        {
          "output_type": "stream",
          "name": "stdout",
          "text": [
            "24.61111111111111\n",
            "14.5\n"
          ]
        }
      ],
      "source": [
        "import numpy as np\n",
        "dataset = [1,2,3,5,7,8,12,13,14,15,24,25,34,32,37,45,46,120]\n",
        "print(np.mean(dataset))\n",
        "print(np.median(dataset))"
      ]
    },
    {
      "cell_type": "code",
      "source": [
        "import statistics\n",
        "print(statistics.mode(dataset))"
      ],
      "metadata": {
        "colab": {
          "base_uri": "https://localhost:8080/"
        },
        "id": "1tJpsGo2fD7k",
        "outputId": "4426dddf-97aa-44a4-9749-8a11434b6c09"
      },
      "execution_count": 3,
      "outputs": [
        {
          "output_type": "stream",
          "name": "stdout",
          "text": [
            "1\n"
          ]
        }
      ]
    },
    {
      "cell_type": "code",
      "source": [
        "import seaborn as sns\n",
        "sns.boxplot(dataset)"
      ],
      "metadata": {
        "colab": {
          "base_uri": "https://localhost:8080/",
          "height": 337
        },
        "id": "Rel1E0rafTqB",
        "outputId": "4fc549c3-fff6-4f75-a749-e0ea803f2839"
      },
      "execution_count": 4,
      "outputs": [
        {
          "output_type": "stream",
          "name": "stderr",
          "text": [
            "/usr/local/lib/python3.8/dist-packages/seaborn/_decorators.py:36: FutureWarning: Pass the following variable as a keyword arg: x. From version 0.12, the only valid positional argument will be `data`, and passing other arguments without an explicit keyword will result in an error or misinterpretation.\n",
            "  warnings.warn(\n"
          ]
        },
        {
          "output_type": "execute_result",
          "data": {
            "text/plain": [
              "<AxesSubplot:>"
            ]
          },
          "metadata": {},
          "execution_count": 4
        },
        {
          "output_type": "display_data",
          "data": {
            "text/plain": [
              "<Figure size 432x288 with 1 Axes>"
            ],
            "image/png": "[encoded data removed]"
          },
          "metadata": {
            "needs_background": "light"
          }
        }
      ]
    },
    {
      "cell_type": "markdown",
      "source": [
        "##we can find the outliers through (5 number summary)"
      ],
      "metadata": {
        "id": "ZAs4KT_GfZcj"
      }
    },
    {
      "cell_type": "code",
      "source": [
        "##first find q1,q3\n",
        "import numpy as np\n",
        "q1,q3 = np.percentile(dataset,[25,75])\n",
        "print(q1,q3) "
      ],
      "metadata": {
        "colab": {
          "base_uri": "https://localhost:8080/"
        },
        "id": "V9kCb_Yufi3T",
        "outputId": "ee5934c0-33e6-4892-ec05-1bc39b39f051"
      },
      "execution_count": 5,
      "outputs": [
        {
          "output_type": "stream",
          "name": "stdout",
          "text": [
            "7.25 33.5\n"
          ]
        }
      ]
    },
    {
      "cell_type": "code",
      "source": [
        "#now find IQR or inter quartile range\n",
        "iqr = q3-q1"
      ],
      "metadata": {
        "id": "hqMwJoPCgLz1"
      },
      "execution_count": 6,
      "outputs": []
    },
    {
      "cell_type": "code",
      "source": [
        "#find the lower and upper range\n",
        "lower_range= q1-(1.5*iqr)\n",
        "upper_range= q3+(1.5*iqr)\n",
        "print(lower_range, upper_range)"
      ],
      "metadata": {
        "colab": {
          "base_uri": "https://localhost:8080/"
        },
        "id": "QpU14mOSgv7N",
        "outputId": "fbbbdd16-acd5-4e63-dee9-16c944d23ce3"
      },
      "execution_count": 7,
      "outputs": [
        {
          "output_type": "stream",
          "name": "stdout",
          "text": [
            "-32.125 72.875\n"
          ]
        }
      ]
    },
    {
      "cell_type": "markdown",
      "source": [
        "So, any data fell outside the range between (-32.125 72.875) are the outliers.\n",
        "\n",
        "\n"
      ],
      "metadata": {
        "id": "HvRiRKtghNoz"
      }
    },
    {
      "cell_type": "markdown",
      "source": [
        "#Center of Dispersion\n",
        "*  Variance\n",
        "*  Standard Deviation\n",
        "\n"
      ],
      "metadata": {
        "id": "Pxunf9Q0hb6M"
      }
    },
    {
      "cell_type": "code",
      "source": [
        "statistics.variance(dataset) #measuring sample   #statistics always represents sample data"
      ],
      "metadata": {
        "colab": {
          "base_uri": "https://localhost:8080/"
        },
        "id": "gBTgObCqhhpj",
        "outputId": "e8503e0f-5c28-4c97-8403-b8bddd32eb0c"
      },
      "execution_count": 8,
      "outputs": [
        {
          "output_type": "execute_result",
          "data": {
            "text/plain": [
              "780.8398692810457"
            ]
          },
          "metadata": {},
          "execution_count": 8
        }
      ]
    },
    {
      "cell_type": "code",
      "source": [
        "np.var(dataset)         #measuring population   #numpy always represents population data"
      ],
      "metadata": {
        "colab": {
          "base_uri": "https://localhost:8080/"
        },
        "id": "bY4eb9tohtAF",
        "outputId": "58d7991c-2148-4b43-8fdb-83fba7917893"
      },
      "execution_count": 9,
      "outputs": [
        {
          "output_type": "execute_result",
          "data": {
            "text/plain": [
              "737.4598765432097"
            ]
          },
          "metadata": {},
          "execution_count": 9
        }
      ]
    },
    {
      "cell_type": "code",
      "source": [
        "statistics.pvariance(dataset) #alternative measuring population"
      ],
      "metadata": {
        "colab": {
          "base_uri": "https://localhost:8080/"
        },
        "id": "Y6mj1Jpwmbxy",
        "outputId": "458e91fa-a7fb-45d1-838f-fd6f9b4d9e12"
      },
      "execution_count": 10,
      "outputs": [
        {
          "output_type": "execute_result",
          "data": {
            "text/plain": [
              "737.4598765432098"
            ]
          },
          "metadata": {},
          "execution_count": 10
        }
      ]
    },
    {
      "cell_type": "code",
      "source": [
        "def variance(data):\n",
        "  n = len(dataset)\n",
        "  ##mean of the dataset\n",
        "  mean = sum(data)/n\n",
        "  print(mean)\n",
        "  #variance\n",
        "  deviation = [(x-mean)**2 for x in data]\n",
        "  variance = sum(deviation)/n   #population mean\n",
        "  return variance"
      ],
      "metadata": {
        "id": "sMSSpvxakbpn"
      },
      "execution_count": 11,
      "outputs": []
    },
    {
      "cell_type": "code",
      "source": [
        "variance(dataset)"
      ],
      "metadata": {
        "colab": {
          "base_uri": "https://localhost:8080/"
        },
        "id": "rRxPE7wAmIA0",
        "outputId": "8c6413a8-7a40-4d64-a8b0-468693690d54"
      },
      "execution_count": 12,
      "outputs": [
        {
          "output_type": "stream",
          "name": "stdout",
          "text": [
            "24.61111111111111\n"
          ]
        },
        {
          "output_type": "execute_result",
          "data": {
            "text/plain": [
              "737.4598765432098"
            ]
          },
          "metadata": {},
          "execution_count": 12
        }
      ]
    },
    {
      "cell_type": "code",
      "source": [
        "##find the standard deviation\n",
        "import math\n",
        "standard_deviation = math.sqrt(np.var(dataset))\n",
        "print(standard_deviation)"
      ],
      "metadata": {
        "colab": {
          "base_uri": "https://localhost:8080/"
        },
        "id": "Cgv_wycAmuUj",
        "outputId": "a082382c-00c5-49b1-b4c7-a2eb9fc44b86"
      },
      "execution_count": 13,
      "outputs": [
        {
          "output_type": "stream",
          "name": "stdout",
          "text": [
            "27.156212485234565\n"
          ]
        }
      ]
    },
    {
      "cell_type": "code",
      "source": [
        "import seaborn as sns\n",
        "sns.histplot(dataset, kde=True)"
      ],
      "metadata": {
        "colab": {
          "base_uri": "https://localhost:8080/",
          "height": 282
        },
        "id": "HgA6HwaEQTET",
        "outputId": "4f3ee07f-6ee0-4ffe-a4a9-f8e49e6208a7"
      },
      "execution_count": 14,
      "outputs": [
        {
          "output_type": "execute_result",
          "data": {
            "text/plain": [
              "<AxesSubplot:ylabel='Count'>"
            ]
          },
          "metadata": {},
          "execution_count": 14
        },
        {
          "output_type": "display_data",
          "data": {
            "text/plain": [
              "<Figure size 432x288 with 1 Axes>"
            ],
            "image/png": "[encoded data removed]"
          },
          "metadata": {
            "needs_background": "light"
          }
        }
      ]
    },
    {
      "cell_type": "code",
      "source": [
        "df=sns.load_dataset('iris')"
      ],
      "metadata": {
        "id": "DLEY2IkxRcDJ"
      },
      "execution_count": 15,
      "outputs": []
    },
    {
      "cell_type": "code",
      "source": [
        "df.head()"
      ],
      "metadata": {
        "colab": {
          "base_uri": "https://localhost:8080/",
          "height": 206
        },
        "id": "uHVmkg61RjV0",
        "outputId": "d705cf5f-e9c3-4869-cde7-b807b885e8ff"
      },
      "execution_count": 16,
      "outputs": [
        {
          "output_type": "execute_result",
          "data": {
            "text/plain": [
              "   sepal_length  sepal_width  petal_length  petal_width species\n",
              "0           5.1          3.5           1.4          0.2  setosa\n",
              "1           4.9          3.0           1.4          0.2  setosa\n",
              "2           4.7          3.2           1.3          0.2  setosa\n",
              "3           4.6          3.1           1.5          0.2  setosa\n",
              "4           5.0          3.6           1.4          0.2  setosa"
            ],
            "text/html": [
              "\n",
              "  <div id=\"df-1abc2c9b-4a00-482c-a149-594141812f86\">\n",
              "    <div class=\"colab-df-container\">\n",
              "      <div>\n",
              "<style scoped>\n",
              "    .dataframe tbody tr th:only-of-type {\n",
              "        vertical-align: middle;\n",
              "    }\n",
              "\n",
              "    .dataframe tbody tr th {\n",
              "        vertical-align: top;\n",
              "    }\n",
              "\n",
              "    .dataframe thead th {\n",
              "        text-align: right;\n",
              "    }\n",
              "</style>\n",
              "<table border=\"1\" class=\"dataframe\">\n",
              "  <thead>\n",
              "    <tr style=\"text-align: right;\">\n",
              "      <th></th>\n",
              "      <th>sepal_length</th>\n",
              "      <th>sepal_width</th>\n",
              "      <th>petal_length</th>\n",
              "      <th>petal_width</th>\n",
              "      <th>species</th>\n",
              "    </tr>\n",
              "  </thead>\n",
              "  <tbody>\n",
              "    <tr>\n",
              "      <th>0</th>\n",
              "      <td>5.1</td>\n",
              "      <td>3.5</td>\n",
              "      <td>1.4</td>\n",
              "      <td>0.2</td>\n",
              "      <td>setosa</td>\n",
              "    </tr>\n",
              "    <tr>\n",
              "      <th>1</th>\n",
              "      <td>4.9</td>\n",
              "      <td>3.0</td>\n",
              "      <td>1.4</td>\n",
              "      <td>0.2</td>\n",
              "      <td>setosa</td>\n",
              "    </tr>\n",
              "    <tr>\n",
              "      <th>2</th>\n",
              "      <td>4.7</td>\n",
              "      <td>3.2</td>\n",
              "      <td>1.3</td>\n",
              "      <td>0.2</td>\n",
              "      <td>setosa</td>\n",
              "    </tr>\n",
              "    <tr>\n",
              "      <th>3</th>\n",
              "      <td>4.6</td>\n",
              "      <td>3.1</td>\n",
              "      <td>1.5</td>\n",
              "      <td>0.2</td>\n",
              "      <td>setosa</td>\n",
              "    </tr>\n",
              "    <tr>\n",
              "      <th>4</th>\n",
              "      <td>5.0</td>\n",
              "      <td>3.6</td>\n",
              "      <td>1.4</td>\n",
              "      <td>0.2</td>\n",
              "      <td>setosa</td>\n",
              "    </tr>\n",
              "  </tbody>\n",
              "</table>\n",
              "</div>\n",
              "      <button class=\"colab-df-convert\" onclick=\"convertToInteractive('df-1abc2c9b-4a00-482c-a149-594141812f86')\"\n",
              "              title=\"Convert this dataframe to an interactive table.\"\n",
              "              style=\"display:none;\">\n",
              "        \n",
              "  <svg xmlns=\"http://www.w3.org/2000/svg\" height=\"24px\"viewBox=\"0 0 24 24\"\n",
              "       width=\"24px\">\n",
              "    <path d=\"M0 0h24v24H0V0z\" fill=\"none\"/>\n",
              "    <path d=\"M18.56 5.44l.94 2.06.94-2.06 2.06-.94-2.06-.94-.94-2.06-.94 2.06-2.06.94zm-11 1L8.5 8.5l.94-2.06 2.06-.94-2.06-.94L8.5 2.5l-.94 2.06-2.06.94zm10 10l.94 2.06.94-2.06 2.06-.94-2.06-.94-.94-2.06-.94 2.06-2.06.94z\"/><path d=\"M17.41 7.96l-1.37-1.37c-.4-.4-.92-.59-1.43-.59-.52 0-1.04.2-1.43.59L10.3 9.45l-7.72 7.72c-.78.78-.78 2.05 0 2.83L4 21.41c.39.39.9.59 1.41.59.51 0 1.02-.2 1.41-.59l7.78-7.78 2.81-2.81c.8-.78.8-2.07 0-2.86zM5.41 20L4 18.59l7.72-7.72 1.47 1.35L5.41 20z\"/>\n",
              "  </svg>\n",
              "      </button>\n",
              "      \n",
              "  <style>\n",
              "    .colab-df-container {\n",
              "      display:flex;\n",
              "      flex-wrap:wrap;\n",
              "      gap: 12px;\n",
              "    }\n",
              "\n",
              "    .colab-df-convert {\n",
              "      background-color: #E8F0FE;\n",
              "      border: none;\n",
              "      border-radius: 50%;\n",
              "      cursor: pointer;\n",
              "      display: none;\n",
              "      fill: #1967D2;\n",
              "      height: 32px;\n",
              "      padding: 0 0 0 0;\n",
              "      width: 32px;\n",
              "    }\n",
              "\n",
              "    .colab-df-convert:hover {\n",
              "      background-color: #E2EBFA;\n",
              "      box-shadow: 0px 1px 2px rgba(60, 64, 67, 0.3), 0px 1px 3px 1px rgba(60, 64, 67, 0.15);\n",
              "      fill: #174EA6;\n",
              "    }\n",
              "\n",
              "    [theme=dark] .colab-df-convert {\n",
              "      background-color: #3B4455;\n",
              "      fill: #D2E3FC;\n",
              "    }\n",
              "\n",
              "    [theme=dark] .colab-df-convert:hover {\n",
              "      background-color: #434B5C;\n",
              "      box-shadow: 0px 1px 3px 1px rgba(0, 0, 0, 0.15);\n",
              "      filter: drop-shadow(0px 1px 2px rgba(0, 0, 0, 0.3));\n",
              "      fill: #FFFFFF;\n",
              "    }\n",
              "  </style>\n",
              "\n",
              "      <script>\n",
              "        const buttonEl =\n",
              "          document.querySelector('#df-1abc2c9b-4a00-482c-a149-594141812f86 button.colab-df-convert');\n",
              "        buttonEl.style.display =\n",
              "          google.colab.kernel.accessAllowed ? 'block' : 'none';\n",
              "\n",
              "        async function convertToInteractive(key) {\n",
              "          const element = document.querySelector('#df-1abc2c9b-4a00-482c-a149-594141812f86');\n",
              "          const dataTable =\n",
              "            await google.colab.kernel.invokeFunction('convertToInteractive',\n",
              "                                                     [key], {});\n",
              "          if (!dataTable) return;\n",
              "\n",
              "          const docLinkHtml = 'Like what you see? Visit the ' +\n",
              "            '<a target=\"_blank\" href=https://colab.research.google.com/notebooks/data_table.ipynb>data table notebook</a>'\n",
              "            + ' to learn more about interactive tables.';\n",
              "          element.innerHTML = '';\n",
              "          dataTable['output_type'] = 'display_data';\n",
              "          await google.colab.output.renderOutput(dataTable, element);\n",
              "          const docLink = document.createElement('div');\n",
              "          docLink.innerHTML = docLinkHtml;\n",
              "          element.appendChild(docLink);\n",
              "        }\n",
              "      </script>\n",
              "    </div>\n",
              "  </div>\n",
              "  "
            ]
          },
          "metadata": {},
          "execution_count": 16
        }
      ]
    },
    {
      "cell_type": "code",
      "source": [
        "sns.histplot(df['sepal_length'], kde=True)"
      ],
      "metadata": {
        "colab": {
          "base_uri": "https://localhost:8080/",
          "height": 297
        },
        "id": "_z4AiTXqTo84",
        "outputId": "ae47c9cb-c915-4efe-e208-73c92ee174fa"
      },
      "execution_count": 17,
      "outputs": [
        {
          "output_type": "execute_result",
          "data": {
            "text/plain": [
              "<AxesSubplot:xlabel='sepal_length', ylabel='Count'>"
            ]
          },
          "metadata": {},
          "execution_count": 17
        },
        {
          "output_type": "display_data",
          "data": {
            "text/plain": [
              "<Figure size 432x288 with 1 Axes>"
            ],
            "image/png": "[encoded data removed]"
          },
          "metadata": {
            "needs_background": "light"
          }
        }
      ]
    },
    {
      "cell_type": "markdown",
      "source": [
        "##want to check if it follows normal D. or not? Then qq plot is necessary.\n",
        "We'll come back there. but first let's get some random data."
      ],
      "metadata": {
        "id": "6_u_P15gUslb"
      }
    },
    {
      "cell_type": "code",
      "source": [
        "s=np.random.normal(0.5, 0.25, 1000) ##mean SD and number of data\n",
        "s"
      ],
      "metadata": {
        "colab": {
          "base_uri": "https://localhost:8080/"
        },
        "id": "AaTHVaytUz4Q",
        "outputId": "2a3c58bf-f01a-46cc-c5c5-c0598fce08fb"
      },
      "execution_count": 18,
      "outputs": [
        {
          "output_type": "execute_result",
          "data": {
            "text/plain": [
              "array([ 0.63580362,  0.08144948,  0.39718221, -0.05027398,  0.20708795,\n",
              "        0.97993343,  0.03492962,  0.38228546,  0.12042857,  0.55114553,\n",
              "        0.47317907,  0.27706836,  0.39348128,  0.3019762 ,  0.58509234,\n",
              "       -0.11202942,  0.56636604,  0.52326914,  0.53746175,  0.56761541,\n",
              "        0.39273061,  0.30180233,  0.1400428 ,  0.35770238,  0.47859   ,\n",
              "        0.29029889,  0.34550117,  0.62259849,  0.15117396,  0.47846821,\n",
              "        0.62013968,  0.82190767,  0.18689861,  0.52012103,  0.71285888,\n",
              "        0.50902771,  0.97481633,  0.59555376,  0.13701541,  0.70634688,\n",
              "        0.56791386,  0.54614292,  0.71364665,  0.43641793,  0.79252488,\n",
              "        0.47026295,  0.21666161,  0.21491935,  0.46524905,  0.31290308,\n",
              "        0.40815934,  0.10903855,  0.50411175,  0.33141688,  0.19932625,\n",
              "        0.03228407,  0.34794741,  0.04467775,  0.74306341,  0.83840039,\n",
              "        0.61979395,  0.17733409,  0.7297932 ,  0.51667729,  0.04563717,\n",
              "        0.53588074,  0.65708728,  0.47219495,  0.87133902,  0.87179468,\n",
              "        0.50875585,  0.86719942,  0.69701847,  0.85145487,  0.39212628,\n",
              "        0.79644843,  0.40650991,  0.39677177,  0.42003628,  0.28372131,\n",
              "        0.17761193,  0.26487571, -0.02591559,  0.21464766,  0.08537856,\n",
              "        0.59072909,  0.70126457,  0.66679465,  0.63928054,  0.62954146,\n",
              "        0.67352386,  0.50072034,  1.00913661,  0.22199175,  0.195591  ,\n",
              "        0.50733631,  0.25128989,  0.28303356,  0.30806981,  0.37376923,\n",
              "        0.22639217,  0.34880872,  0.4962264 ,  0.08579929,  0.60273533,\n",
              "        0.42232383,  0.83777183,  0.58282739,  0.24640196,  0.70315338,\n",
              "        0.67255435,  0.41574759,  0.38816851,  0.95889372,  0.37863395,\n",
              "        0.65134784,  0.77700494,  0.24256305,  0.18003934,  0.6193404 ,\n",
              "        0.39875921,  0.39545688,  0.41796076,  0.30635067,  0.0771262 ,\n",
              "        0.50009134,  0.51047628,  0.74791151,  0.35676333,  0.3952977 ,\n",
              "        0.40659796,  0.57463511,  0.44370989,  0.66187872,  0.72856167,\n",
              "        0.69807711,  0.32565983,  0.71635665,  0.52575257,  0.7008422 ,\n",
              "        0.35452766,  0.59610066,  0.48053049,  0.290687  ,  0.37573821,\n",
              "        0.5348503 ,  0.91401581,  0.61468251,  0.4558298 ,  0.40325238,\n",
              "        0.44809004,  0.47411457,  0.75997692,  0.66213339, -0.25993122,\n",
              "       -0.00445753,  0.62360447,  0.84661556,  0.57695754,  0.50539117,\n",
              "        0.28324451,  0.67242583,  0.27027726,  0.97038195,  0.22815757,\n",
              "        0.4597526 ,  0.23125735,  0.58630848,  0.24475669,  0.99970112,\n",
              "        0.55404239,  0.46522057,  0.38927172, -0.14916529,  0.49916933,\n",
              "        0.80752835,  0.77508261,  0.19315894,  0.31509234,  0.36002859,\n",
              "        0.29224643,  0.69019145,  0.4393246 ,  0.45894887,  0.98600214,\n",
              "        0.54422829,  0.26573571,  0.99611105,  0.52022333,  0.09602919,\n",
              "        0.54756886,  0.75634915,  0.81047078,  0.52077268,  0.72113131,\n",
              "        1.11079682,  0.38987815,  1.10135165,  0.27777107,  0.70786343,\n",
              "        0.44608832,  0.50752463,  0.61856404,  0.38643035,  0.20025231,\n",
              "        0.20228805,  0.53124726, -0.20957136,  0.50470528,  0.15710734,\n",
              "        0.8234403 ,  0.31624741,  0.66056008,  1.33112788,  0.45678872,\n",
              "        0.24258981,  0.46648905,  0.15891658,  0.81745896,  0.12943642,\n",
              "        1.01613434,  0.10183047,  0.51173872,  0.99033107,  0.73035973,\n",
              "        0.35565261,  0.77263875,  0.38165139,  0.40928234,  0.71822728,\n",
              "        0.09919095,  0.66625077,  0.75340593,  0.83409945,  0.14534128,\n",
              "        0.71449002,  0.42707427,  0.47294499,  0.26577805,  0.1177195 ,\n",
              "        0.2831533 ,  0.17473259,  0.46879747,  0.34160104,  0.45372645,\n",
              "        0.5749548 ,  0.3324417 , -0.13150686,  0.88011704,  0.46842848,\n",
              "        1.25660096,  0.39435462,  0.75425132,  0.56498259,  0.39737283,\n",
              "       -0.08367068,  0.7541477 ,  0.26771529,  0.44052049,  0.68862929,\n",
              "        0.99060813,  0.75571821,  0.63673651,  0.88564643,  0.09553628,\n",
              "        0.56574391,  0.55299197,  0.63065574,  0.31535952,  0.42856342,\n",
              "        0.27954004,  0.36896983,  0.98161082,  0.14746273,  0.96191033,\n",
              "        0.09937379,  0.77809242,  0.58643836,  0.73258045,  0.71495983,\n",
              "        0.49861777,  0.25262837,  0.30123296,  0.34909917,  0.38078912,\n",
              "        0.67915703,  0.47916963,  0.67372034,  0.47900267,  0.66315124,\n",
              "        0.7089826 ,  0.45953498,  0.55108811,  0.76513216,  0.81958025,\n",
              "        0.28071134,  1.04601042,  0.79293169,  0.67790774,  0.53479588,\n",
              "        0.48097298,  0.48928525,  0.38382473,  0.58508276,  0.33317659,\n",
              "        0.69700989,  0.66209247, -0.00233447,  0.92617706,  1.13472631,\n",
              "        0.10455633,  0.55783812,  0.47606276,  0.77439893,  0.3439247 ,\n",
              "        0.77398727,  0.82128074,  0.16391278,  0.56906662,  0.62020674,\n",
              "        0.48689843,  0.59091365,  0.82604561,  0.46028122,  0.43375054,\n",
              "        0.34557617,  1.06698066,  0.74655033,  0.12894945,  0.05450731,\n",
              "       -0.30407238,  0.26760769,  0.53324256,  0.76293668,  0.47451113,\n",
              "        0.62668692,  0.56891216,  0.05265976,  0.40246029,  0.11119638,\n",
              "        0.75065183,  0.78891446,  0.16003607,  0.48006307,  0.73076408,\n",
              "        0.70192418,  0.42111991,  0.63210176,  1.00373387,  0.4613085 ,\n",
              "        0.31236064,  0.65733677,  0.47585179,  0.17502558,  0.55657216,\n",
              "        0.42759693,  0.55671703,  0.37617161,  0.14940321,  0.63638193,\n",
              "        0.05411529,  0.34190725,  0.83743318,  0.35977384,  1.0801942 ,\n",
              "        0.27076606,  0.58206298,  1.03414362,  0.23311682,  0.63154845,\n",
              "        0.47506118,  0.25331881,  0.47473496,  0.77673913,  0.85195938,\n",
              "        0.33184598,  0.60641627,  0.81521844,  0.44362032,  0.68228101,\n",
              "        0.60769587,  0.18642173,  0.50525067,  0.51734029,  0.83606658,\n",
              "       -0.01347435,  0.68049253, -0.09668973,  0.47366516,  0.61288249,\n",
              "        0.36985252,  1.03746546,  0.63780127,  0.93488551,  0.40517008,\n",
              "        0.52598514,  0.53404059,  0.77482449,  0.37294191,  0.13457788,\n",
              "        0.44706597,  0.40460158,  0.14371884,  0.50498433,  0.53368461,\n",
              "        0.96570674,  0.54052101,  0.59393441,  0.29512999,  0.52703921,\n",
              "        0.58705196,  0.55474037,  0.29744671,  0.74055046,  0.23134688,\n",
              "        0.7585301 ,  0.6558551 ,  0.58375167,  0.39880652,  0.33488579,\n",
              "        0.32963594,  0.54545828,  0.43470925,  0.45758299,  0.71693617,\n",
              "        0.47051474,  0.31125296,  0.72547653,  0.65495846,  0.57466224,\n",
              "        0.23135201,  0.39696547,  0.27596479,  0.31450781,  0.19048029,\n",
              "        0.19040674,  0.51284667,  0.9107212 ,  0.5821212 ,  0.4726828 ,\n",
              "        0.71694325,  0.68526462,  1.03245411,  0.47533604,  0.14916204,\n",
              "        0.48396121,  0.61715206,  0.77767783,  0.36538445,  0.24920012,\n",
              "        0.50725426,  0.55943619,  0.23099646,  0.64987599,  0.82997717,\n",
              "        0.55844226,  0.69755739,  0.50874562,  0.51338831,  0.60664475,\n",
              "        0.10111966,  0.35245477,  0.34743408,  0.7935507 ,  0.45772934,\n",
              "        0.84342368,  0.5383316 ,  0.42276125,  0.28114944,  0.44076415,\n",
              "        0.63874094,  0.17783507,  0.62821182,  0.55883136,  0.27683379,\n",
              "        0.12433118,  0.8645382 ,  0.63995759,  0.64494365,  0.32524141,\n",
              "       -0.06764094,  0.63060002,  0.52218239,  0.49058214,  0.80803555,\n",
              "        0.44634147,  0.36018647,  0.51033383,  0.78922598,  0.43049016,\n",
              "        0.47478831,  0.30187982,  0.58645318,  0.60180821,  0.58606732,\n",
              "        0.69037688,  0.20771637,  0.58192163,  0.10912463,  0.27680049,\n",
              "        0.70044942,  0.20026636,  0.33389919,  0.82803466,  0.53923868,\n",
              "        0.63795796,  0.52186156,  0.43841031,  0.77213003,  0.43408372,\n",
              "        0.54368523,  0.30303536,  0.63671349,  1.06560296,  0.39631287,\n",
              "        0.74577   ,  0.29319673, -0.18827741,  0.31538211,  0.60592602,\n",
              "        0.50048431,  0.89851888,  0.46343066,  0.22380987,  0.60027465,\n",
              "        1.03818615,  0.5569014 ,  0.59551061,  0.10020302,  0.50843202,\n",
              "        0.65111555, -0.2027963 ,  0.37878006,  0.19885598,  0.3849638 ,\n",
              "        0.37003386,  0.02889977,  0.63337297,  0.46175437,  0.6020709 ,\n",
              "        0.50529502,  0.90299443,  0.32810943, -0.02080202,  0.58203842,\n",
              "        0.36214318,  0.38703147,  0.91164024,  0.02535726,  0.33883221,\n",
              "        0.45553416,  0.50892327,  0.33411109,  0.81057897,  0.33938337,\n",
              "        0.47685159,  0.42531902,  0.61012922,  0.56875948,  0.45969983,\n",
              "        0.66999787,  0.77138162,  0.5911437 ,  0.15125832,  0.55805378,\n",
              "        0.3051242 ,  0.25712394,  0.8723416 , -0.0781833 ,  0.59472726,\n",
              "        0.36118748,  0.68390768,  0.46743891,  0.31168685,  0.28999037,\n",
              "        0.53871277,  0.92359986,  0.81892148,  0.7861442 ,  0.65957597,\n",
              "        0.37333149,  0.1751533 ,  0.36966936, -0.12705543,  0.13855974,\n",
              "        0.23558008,  0.43066642,  0.32541651,  0.55239426,  0.50065514,\n",
              "        0.49624306,  0.50072203,  0.22254616,  0.66276641,  0.54926282,\n",
              "        0.31117238,  0.43520281,  0.74196938,  0.80957254,  0.89945867,\n",
              "        0.20824206,  0.56123229,  0.14366323,  0.43109971,  0.31766205,\n",
              "        0.49778719,  0.36848151,  0.99648077,  0.52178435,  0.18661128,\n",
              "        0.11320041,  0.29199421,  0.67876973,  0.21050307,  0.39965096,\n",
              "        0.2429288 ,  0.72852614,  0.69131382,  0.36183082,  0.06183831,\n",
              "        0.57359699,  0.57300584,  0.56105006,  0.28944915,  0.56649985,\n",
              "        0.4638066 ,  0.49497713,  0.43255966,  0.22295841,  0.53693596,\n",
              "        0.46005391,  0.3243912 ,  0.61144211,  0.89386715,  0.92401407,\n",
              "        0.52032042,  0.80710383,  0.61081699,  0.25849051,  0.60262012,\n",
              "        0.94062521,  0.42176938,  0.49566067,  0.35056755,  0.21146661,\n",
              "        0.30694712,  0.31144531,  0.68777781,  0.70523104,  0.915109  ,\n",
              "        0.66831297,  0.57675032,  0.43088227,  0.70966544,  0.80945135,\n",
              "        0.39008707,  0.49535627,  0.94109471,  0.30854879,  0.49736427,\n",
              "        0.57185971,  0.6622835 ,  1.1029838 ,  1.29404237,  0.62725597,\n",
              "        1.07615985,  0.50364066,  0.27154306,  0.61363064,  0.74473869,\n",
              "        0.87476003,  0.5933201 ,  0.66387752,  0.06631632,  0.27523832,\n",
              "        1.12774501,  0.10840503,  0.11237192,  0.78122463,  0.48863318,\n",
              "       -0.12242689,  0.58485334,  0.77225783,  0.20318035,  0.89323372,\n",
              "        0.68870516,  0.53661898,  0.50969104,  0.8409635 ,  0.56677182,\n",
              "        0.56160922,  0.10596105, -0.16777742,  0.67668236,  0.59353934,\n",
              "        1.20341098,  0.35876111,  0.401731  ,  0.55015637,  0.25307351,\n",
              "        0.61092145,  1.06471119,  0.25826365,  0.20243436,  0.24808583,\n",
              "        0.41257298,  0.27692512,  0.54954403,  0.73072919,  0.51108968,\n",
              "        0.38171641,  0.66513983,  0.06408272,  0.76905733,  0.22497956,\n",
              "        0.13928111,  0.93029024,  0.37063211,  0.59209159,  0.5045598 ,\n",
              "        0.36372506,  0.33755006,  0.29814391,  0.44047921,  0.0779004 ,\n",
              "       -0.22452583,  0.75525142,  0.47040164,  0.09543261,  0.5275394 ,\n",
              "        0.26162678,  0.74141756,  0.73741203,  0.68117125,  0.5328674 ,\n",
              "       -0.11716454,  0.94974856,  0.24520218,  0.57952909,  0.72837674,\n",
              "        0.43172692,  0.62003905,  0.46837378,  1.02289535,  0.34685504,\n",
              "        0.42103272,  0.59857212,  0.28810047,  0.41112954,  0.55908804,\n",
              "        0.25369303,  0.38127684,  0.52454908,  0.49659702,  0.55440242,\n",
              "        0.68215601,  0.58548617,  0.64241086,  0.27195696,  0.45566421,\n",
              "        0.59064362,  0.66449112,  0.67262536,  0.28058462,  0.33983016,\n",
              "        0.43422143,  1.00958416,  0.6098586 ,  0.72525776,  0.2342224 ,\n",
              "        0.73602356,  0.6482283 ,  1.01307555,  0.37777555,  0.57633544,\n",
              "        0.39423512,  0.37866044,  0.49131926,  0.80484427,  0.17390567,\n",
              "        0.6100273 ,  1.02337602,  0.72596222,  0.89853122,  0.78652927,\n",
              "        0.19668212,  0.22713174,  0.48562009,  0.86190734,  0.2346204 ,\n",
              "        0.35580166,  0.55629176,  0.46283562,  0.41487103,  0.31541455,\n",
              "        0.72931424,  0.60868718,  0.55678388,  0.53109727,  0.30854631,\n",
              "        0.39768642,  0.83236574,  0.3995021 , -0.02645819,  0.59910345,\n",
              "       -0.0846709 ,  0.72076525,  0.83573852,  0.59411799,  0.27224695,\n",
              "        0.23967232,  0.68393081,  0.7192528 ,  0.49861454,  0.72504862,\n",
              "        0.59022801,  0.80855181,  0.70964901,  0.49623314,  0.59847349,\n",
              "        0.64677734,  0.35219613,  0.18146345,  0.26720133,  0.50162326,\n",
              "        0.92712309,  0.42111582,  0.27020178,  0.28854571,  0.11994719,\n",
              "        0.60959674,  0.36792701,  0.39499413,  0.53043129,  0.16147684,\n",
              "        0.32539177,  0.52718316,  0.26592948,  0.50814953,  0.07560439,\n",
              "        0.67446106,  0.59171251,  0.86640052,  0.5087146 ,  0.11650356,\n",
              "        0.90328034,  0.57792247,  0.24261157,  0.80836604,  0.92800943,\n",
              "        0.36775069,  0.361405  ,  0.04092803,  0.66401844,  1.00461758,\n",
              "        0.82074943,  0.73552317,  0.76094555,  0.6462225 ,  0.55700223,\n",
              "        0.33604352,  0.75365833,  0.64300853,  0.32228201,  1.23532597,\n",
              "        0.50322779,  0.56562348,  0.4766356 ,  0.3368294 ,  0.69921868,\n",
              "        0.60644653,  0.84090406,  0.53171924,  1.07620398,  0.81659421,\n",
              "        0.34864803,  0.63806052,  0.55876133,  0.66840332,  0.4230219 ,\n",
              "        0.28574985,  0.66145982,  0.0151725 ,  0.54184095,  0.60258122,\n",
              "        0.45728291,  0.44481221,  0.94560504,  0.44091575,  0.64146261,\n",
              "        0.38529345,  1.10857293,  0.64896394, -0.05067829,  0.51798456,\n",
              "        0.35379748,  0.46762553,  0.32230351,  0.82069895,  0.4187492 ,\n",
              "        0.51918458,  0.20686098,  0.35204124,  0.2662634 ,  0.26285229,\n",
              "        0.31919588,  0.63839628,  1.00562789,  0.31366864,  0.2723022 ,\n",
              "        0.19768688,  0.54720346,  0.44441972,  0.60858212,  0.55444333,\n",
              "        0.29466576,  0.87730235,  0.33670735,  0.03261669,  1.05705129,\n",
              "        0.42454032,  0.82453959,  0.38966242,  0.71674998,  0.70299346,\n",
              "        1.05152818,  0.72679017,  0.37824293,  0.31534546,  0.72170164,\n",
              "        0.40697521,  0.74610427,  0.16685598,  0.67270217,  0.2440589 ,\n",
              "        0.49639891,  0.63843724,  0.34458007,  0.3556542 ,  0.47402585,\n",
              "        0.3471399 ,  0.36907293,  0.37215939,  0.56320135,  0.71671117,\n",
              "        0.392602  ,  0.05780158,  0.65775832,  0.87443727,  0.08051266,\n",
              "        0.33565119,  0.44313253,  0.32343298,  0.20177169,  0.44808431,\n",
              "        0.58387749,  0.71051071,  0.57981195,  0.42781523,  0.63576386,\n",
              "        0.83476177,  0.18296997,  0.50708421,  0.57714401,  0.44355286,\n",
              "        0.21074011,  0.62951458,  0.32201398,  0.94162444,  0.2650369 ,\n",
              "        0.05825215,  0.69093694,  0.77157972,  0.86981317,  0.7649623 ,\n",
              "        0.10627125,  0.47516445,  0.38623665,  0.4782608 ,  0.33385726,\n",
              "        0.31801115,  0.2969583 ,  0.2519258 ,  0.46937713,  0.42906833,\n",
              "        0.48383933,  0.42546292,  0.9040016 ,  1.11647258,  0.66203986,\n",
              "        0.84552656,  0.23699023,  0.25881926,  0.60338171,  0.37966524,\n",
              "        1.03143968,  0.53246676,  0.49883654,  0.84401746,  0.5495412 ])"
            ]
          },
          "metadata": {},
          "execution_count": 18
        }
      ]
    },
    {
      "cell_type": "code",
      "source": [
        "sns.histplot(s, kde=True)\n"
      ],
      "metadata": {
        "colab": {
          "base_uri": "https://localhost:8080/",
          "height": 282
        },
        "id": "AXHFWt-nULEC",
        "outputId": "5c674886-0525-45b4-efc9-f1fa8e2454d2"
      },
      "execution_count": 19,
      "outputs": [
        {
          "output_type": "execute_result",
          "data": {
            "text/plain": [
              "<AxesSubplot:ylabel='Count'>"
            ]
          },
          "metadata": {},
          "execution_count": 19
        },
        {
          "output_type": "display_data",
          "data": {
            "text/plain": [
              "<Figure size 432x288 with 1 Axes>"
            ],
            "image/png": "[encoded data removed]"
          },
          "metadata": {
            "needs_background": "light"
          }
        }
      ]
    },
    {
      "cell_type": "code",
      "source": [
        "s= np.random.lognormal(0.3, 0.75, 1000)\n",
        "sns.histplot(s, kde=True)"
      ],
      "metadata": {
        "colab": {
          "base_uri": "https://localhost:8080/",
          "height": 282
        },
        "id": "pkSqtzHSUq6L",
        "outputId": "a23681ec-08d0-46fd-823f-82a19e14b87b"
      },
      "execution_count": 20,
      "outputs": [
        {
          "output_type": "execute_result",
          "data": {
            "text/plain": [
              "<AxesSubplot:ylabel='Count'>"
            ]
          },
          "metadata": {},
          "execution_count": 20
        },
        {
          "output_type": "display_data",
          "data": {
            "text/plain": [
              "<Figure size 432x288 with 1 Axes>"
            ],
            "image/png": "[encoded data removed]"
          },
          "metadata": {
            "needs_background": "light"
          }
        }
      ]
    },
    {
      "cell_type": "markdown",
      "source": [
        "Again, if you want convert this log normal to Normal D, then simply do this below:\n"
      ],
      "metadata": {
        "id": "6RIf8Wy6aZfh"
      }
    },
    {
      "cell_type": "code",
      "source": [
        "sns.histplot(np.log(s))"
      ],
      "metadata": {
        "colab": {
          "base_uri": "https://localhost:8080/",
          "height": 283
        },
        "id": "HaACEtPIaftw",
        "outputId": "f9560c75-aa07-4ba5-abb4-2a59e1a6a2d2"
      },
      "execution_count": 21,
      "outputs": [
        {
          "output_type": "execute_result",
          "data": {
            "text/plain": [
              "<AxesSubplot:ylabel='Count'>"
            ]
          },
          "metadata": {},
          "execution_count": 21
        },
        {
          "output_type": "display_data",
          "data": {
            "text/plain": [
              "<Figure size 432x288 with 1 Axes>"
            ],
            "image/png": "[encoded data removed]"
          },
          "metadata": {
            "needs_background": "light"
          }
        }
      ]
    },
    {
      "cell_type": "markdown",
      "source": [
        "Now, we'll see QQ plot."
      ],
      "metadata": {
        "id": "8SB3c4kZamKI"
      }
    },
    {
      "cell_type": "code",
      "source": [
        "import matplotlib as plt\n",
        "import scipy.stats as stat\n",
        "import numpy as np\n",
        "import pylab\n",
        "\n",
        "def plot_data(sample):\n",
        "  plt.figure(figsize=(10,60))\n",
        "  plt.subplot(1,2,1)\n",
        "  sns.histplot(sample)\n",
        "  plt.subplot(1,2,2)\n",
        "  stat.probplot(sample,dist='norm',plot=pylab)\n",
        "  plt.show()"
      ],
      "metadata": {
        "id": "Wk2YRegWsFVK"
      },
      "execution_count": 49,
      "outputs": []
    },
    {
      "cell_type": "code",
      "source": [
        "s=np.random.normal(0.5,0.2,100)\n",
        "plot_data(s)"
      ],
      "metadata": {
        "colab": {
          "base_uri": "https://localhost:8080/",
          "height": 183
        },
        "id": "UbAXE7DitYLJ",
        "outputId": "f1a2f4a7-9d48-40e2-bd45-8b1fc4b1f483"
      },
      "execution_count": 53,
      "outputs": [
        {
          "output_type": "error",
          "ename": "NameError",
          "evalue": "ignored",
          "traceback": [
            "\u001b[0;31m---------------------------------------------------------------------------\u001b[0m",
            "\u001b[0;31mNameError\u001b[0m                                 Traceback (most recent call last)",
            "\u001b[0;32m<ipython-input-53-2e66211c5e1a>\u001b[0m in \u001b[0;36m<module>\u001b[0;34m\u001b[0m\n\u001b[1;32m      1\u001b[0m \u001b[0ms\u001b[0m\u001b[0;34m=\u001b[0m\u001b[0mnp\u001b[0m\u001b[0;34m.\u001b[0m\u001b[0mrandom\u001b[0m\u001b[0;34m.\u001b[0m\u001b[0mnormal\u001b[0m\u001b[0;34m(\u001b[0m\u001b[0;36m0.5\u001b[0m\u001b[0;34m,\u001b[0m\u001b[0;36m0.2\u001b[0m\u001b[0;34m,\u001b[0m\u001b[0;36m100\u001b[0m\u001b[0;34m)\u001b[0m\u001b[0;34m\u001b[0m\u001b[0;34m\u001b[0m\u001b[0m\n\u001b[0;32m----> 2\u001b[0;31m \u001b[0mplot_data\u001b[0m\u001b[0;34m(\u001b[0m\u001b[0mln\u001b[0m\u001b[0;34m(\u001b[0m\u001b[0ms\u001b[0m\u001b[0;34m)\u001b[0m\u001b[0;34m)\u001b[0m\u001b[0;34m\u001b[0m\u001b[0;34m\u001b[0m\u001b[0m\n\u001b[0m",
            "\u001b[0;31mNameError\u001b[0m: name 'ln' is not defined"
          ]
        }
      ]
    }
  ]
}