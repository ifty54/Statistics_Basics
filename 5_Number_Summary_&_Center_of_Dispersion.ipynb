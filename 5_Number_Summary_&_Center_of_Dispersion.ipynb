{
  "nbformat": 4,
  "nbformat_minor": 0,
  "metadata": {
    "colab": {
      "provenance": [],
      "authorship_tag": "ABX9TyPFN6AFpf7B7GBZ3m2ebwes",
      "include_colab_link": true
    },
    "kernelspec": {
      "name": "python3",
      "display_name": "Python 3"
    },
    "language_info": {
      "name": "python"
    }
  },
  "cells": [
    {
      "cell_type": "markdown",
      "metadata": {
        "id": "view-in-github",
        "colab_type": "text"
      },
      "source": [
        "<a href=\"https://colab.research.google.com/github/ifty54/ifty/blob/main/5_Number_Summary_%26_Center_of_Dispersion.ipynb\" target=\"_parent\"><img src=\"https://colab.research.google.com/assets/colab-badge.svg\" alt=\"Open In Colab\"/></a>"
      ]
    },
    {
      "cell_type": "markdown",
      "source": [
        "##Mean Median Mode"
      ],
      "metadata": {
        "id": "_d-VYGPKeuQL"
      }
    },
    {
      "cell_type": "code",
      "execution_count": 1,
      "metadata": {
        "colab": {
          "base_uri": "https://localhost:8080/"
        },
        "id": "9JK1h8eDeXOj",
        "outputId": "242b8f8d-efb9-483b-8828-0e72d5a5d9ea"
      },
      "outputs": [
        {
          "output_type": "stream",
          "name": "stdout",
          "text": [
            "24.61111111111111\n",
            "14.5\n"
          ]
        }
      ],
      "source": [
        "import numpy as np\n",
        "dataset = [1,2,3,5,7,8,12,13,14,15,24,25,34,32,37,45,46,120]\n",
        "print(np.mean(dataset))\n",
        "print(np.median(dataset))"
      ]
    },
    {
      "cell_type": "code",
      "source": [
        "import statistics\n",
        "print(statistics.mode(dataset))"
      ],
      "metadata": {
        "colab": {
          "base_uri": "https://localhost:8080/"
        },
        "id": "1tJpsGo2fD7k",
        "outputId": "a3ac404b-e563-4b4c-e323-d8470583034d"
      },
      "execution_count": 3,
      "outputs": [
        {
          "output_type": "stream",
          "name": "stdout",
          "text": [
            "1\n"
          ]
        }
      ]
    },
    {
      "cell_type": "code",
      "source": [
        "import seaborn as sns\n",
        "sns.boxplot(dataset)"
      ],
      "metadata": {
        "colab": {
          "base_uri": "https://localhost:8080/",
          "height": 337
        },
        "id": "Rel1E0rafTqB",
        "outputId": "0ab56e55-fe26-44ad-a63e-2e8421db2a47"
      },
      "execution_count": 4,
      "outputs": [
        {
          "output_type": "stream",
          "name": "stderr",
          "text": [
            "/usr/local/lib/python3.8/dist-packages/seaborn/_decorators.py:36: FutureWarning: Pass the following variable as a keyword arg: x. From version 0.12, the only valid positional argument will be `data`, and passing other arguments without an explicit keyword will result in an error or misinterpretation.\n",
            "  warnings.warn(\n"
          ]
        },
        {
          "output_type": "execute_result",
          "data": {
            "text/plain": [
              "<AxesSubplot:>"
            ]
          },
          "metadata": {},
          "execution_count": 4
        },
        {
          "output_type": "display_data",
          "data": {
            "text/plain": [
              "<Figure size 432x288 with 1 Axes>"
            ],
            "image/png": "[encoded data removed]"
          },
          "metadata": {
            "needs_background": "light"
          }
        }
      ]
    },
    {
      "cell_type": "markdown",
      "source": [
        "##we can find the outliers through (5 number summary)"
      ],
      "metadata": {
        "id": "ZAs4KT_GfZcj"
      }
    },
    {
      "cell_type": "code",
      "source": [
        "##first find q1,q3\n",
        "import numpy as np\n",
        "q1,q3 = np.percentile(dataset,[25,75])\n",
        "print(q1,q3) "
      ],
      "metadata": {
        "colab": {
          "base_uri": "https://localhost:8080/"
        },
        "id": "V9kCb_Yufi3T",
        "outputId": "ecb5e3de-9603-419b-d693-a08572e71983"
      },
      "execution_count": 9,
      "outputs": [
        {
          "output_type": "stream",
          "name": "stdout",
          "text": [
            "7.25 33.5\n"
          ]
        }
      ]
    },
    {
      "cell_type": "code",
      "source": [
        "#now find IQR or inter quartile range\n",
        "iqr = q3-q1"
      ],
      "metadata": {
        "id": "hqMwJoPCgLz1"
      },
      "execution_count": 10,
      "outputs": []
    },
    {
      "cell_type": "code",
      "source": [
        "#find the lower and upper range\n",
        "lower_range= q1-(1.5*iqr)\n",
        "upper_range= q3+(1.5*iqr)\n",
        "print(lower_range, upper_range)"
      ],
      "metadata": {
        "colab": {
          "base_uri": "https://localhost:8080/"
        },
        "id": "QpU14mOSgv7N",
        "outputId": "e41555ef-dec3-4758-f3d9-b427b8367882"
      },
      "execution_count": 12,
      "outputs": [
        {
          "output_type": "stream",
          "name": "stdout",
          "text": [
            "-32.125 72.875\n"
          ]
        }
      ]
    },
    {
      "cell_type": "markdown",
      "source": [
        "So, any data fell outside the range between (-32.125 72.875) are the outliers.\n",
        "\n",
        "\n"
      ],
      "metadata": {
        "id": "HvRiRKtghNoz"
      }
    },
    {
      "cell_type": "markdown",
      "source": [
        "#Center of Dispersion\n",
        "*  Variance\n",
        "*  Standard Deviation\n",
        "\n"
      ],
      "metadata": {
        "id": "Pxunf9Q0hb6M"
      }
    },
    {
      "cell_type": "code",
      "source": [
        "statistics.variance(dataset) #measuring sample   #statistics always represents sample data"
      ],
      "metadata": {
        "colab": {
          "base_uri": "https://localhost:8080/"
        },
        "id": "gBTgObCqhhpj",
        "outputId": "e47cd121-f86b-4875-c462-19099cd28157"
      },
      "execution_count": 13,
      "outputs": [
        {
          "output_type": "execute_result",
          "data": {
            "text/plain": [
              "780.8398692810457"
            ]
          },
          "metadata": {},
          "execution_count": 13
        }
      ]
    },
    {
      "cell_type": "code",
      "source": [
        "np.var(dataset)         #measuring population   #numpy always represents population data"
      ],
      "metadata": {
        "colab": {
          "base_uri": "https://localhost:8080/"
        },
        "id": "bY4eb9tohtAF",
        "outputId": "ba66b1c1-725e-4445-a32b-3f1b6d3651ea"
      },
      "execution_count": 15,
      "outputs": [
        {
          "output_type": "execute_result",
          "data": {
            "text/plain": [
              "737.4598765432097"
            ]
          },
          "metadata": {},
          "execution_count": 15
        }
      ]
    },
    {
      "cell_type": "code",
      "source": [
        "statistics.pvariance(dataset) #alternative measuring population"
      ],
      "metadata": {
        "colab": {
          "base_uri": "https://localhost:8080/"
        },
        "id": "Y6mj1Jpwmbxy",
        "outputId": "dae9c838-6a54-4d2a-8be4-4e20757336f8"
      },
      "execution_count": 24,
      "outputs": [
        {
          "output_type": "execute_result",
          "data": {
            "text/plain": [
              "737.4598765432098"
            ]
          },
          "metadata": {},
          "execution_count": 24
        }
      ]
    },
    {
      "cell_type": "code",
      "source": [
        "def variance(data):\n",
        "  n = len(dataset)\n",
        "  ##mean of the dataset\n",
        "  mean = sum(data)/n\n",
        "  print(mean)\n",
        "  #variance\n",
        "  deviation = [(x-mean)**2 for x in data]\n",
        "  variance = sum(deviation)/n   #population mean\n",
        "  return variance"
      ],
      "metadata": {
        "id": "sMSSpvxakbpn"
      },
      "execution_count": 22,
      "outputs": []
    },
    {
      "cell_type": "code",
      "source": [
        "variance(dataset)"
      ],
      "metadata": {
        "colab": {
          "base_uri": "https://localhost:8080/"
        },
        "id": "rRxPE7wAmIA0",
        "outputId": "aa4dcd0f-7342-41b5-b981-770c82cc61cd"
      },
      "execution_count": 23,
      "outputs": [
        {
          "output_type": "stream",
          "name": "stdout",
          "text": [
            "24.61111111111111\n"
          ]
        },
        {
          "output_type": "execute_result",
          "data": {
            "text/plain": [
              "737.4598765432098"
            ]
          },
          "metadata": {},
          "execution_count": 23
        }
      ]
    },
    {
      "cell_type": "code",
      "source": [
        "##find the standard deviation\n",
        "import math\n",
        "standard_deviation = math.sqrt(np.var(dataset))\n",
        "print(standard_deviation)"
      ],
      "metadata": {
        "colab": {
          "base_uri": "https://localhost:8080/"
        },
        "id": "Cgv_wycAmuUj",
        "outputId": "d4e79147-d745-4a3a-ac85-d0802f296108"
      },
      "execution_count": 26,
      "outputs": [
        {
          "output_type": "stream",
          "name": "stdout",
          "text": [
            "27.156212485234565\n"
          ]
        }
      ]
    }
  ]
}